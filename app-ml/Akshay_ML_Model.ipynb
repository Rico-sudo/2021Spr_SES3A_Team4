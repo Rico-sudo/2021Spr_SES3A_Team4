{
  "nbformat": 4,
  "nbformat_minor": 0,
  "metadata": {
    "colab": {
      "name": "3AStudio_ML.ipynb",
      "provenance": []
    },
    "kernelspec": {
      "name": "python3",
      "display_name": "Python 3"
    },
    "language_info": {
      "name": "python"
    }
  },
  "cells": [
    {
      "cell_type": "code",
      "metadata": {
        "id": "uOnC4lEW3O79"
      },
      "source": [
        "import json  #create the json\n",
        "import shutil #copy images to train, test and valid dirs\n",
        "import os #files and dirs manipulation\n",
        "import math #split calculate"
      ],
      "execution_count": 2,
      "outputs": []
    },
    {
      "cell_type": "code",
      "metadata": {
        "colab": {
          "base_uri": "https://localhost:8080/"
        },
        "id": "kSEKp5R23b0b",
        "outputId": "1973184c-3ff3-4977-939e-e688241f3e4b"
      },
      "source": [
        "from google.colab import drive\n",
        "drive.mount('/content/gdrive')"
      ],
      "execution_count": 3,
      "outputs": [
        {
          "output_type": "stream",
          "name": "stdout",
          "text": [
            "Mounted at /content/gdrive\n"
          ]
        }
      ]
    },
    {
      "cell_type": "code",
      "metadata": {
        "id": "zIhQVrC13fqR"
      },
      "source": [
        "parent_dir = '/content/gdrive/MyDrive/Studio 3A/SnakeDataset'"
      ],
      "execution_count": 4,
      "outputs": []
    },
    {
      "cell_type": "code",
      "metadata": {
        "colab": {
          "base_uri": "https://localhost:8080/"
        },
        "id": "tYMpQBOM3paj",
        "outputId": "21a2d00f-e75e-4271-eac2-6d5b5ade6dca"
      },
      "source": [
        "database_dir = '/content/gdrive/MyDrive/Studio 3A/SnakeDataset/dataset'\n",
        "#show category folder list\n",
        "os.chdir(database_dir)\n",
        "category_list = list(filter(lambda x: os.path.isdir(x),os.listdir()))\n",
        "for category in category_list:\n",
        "  print(category)"
      ],
      "execution_count": 5,
      "outputs": [
        {
          "output_type": "stream",
          "name": "stdout",
          "text": [
            "storeria-dekayi\n",
            "rhinocheilus-lecontei\n",
            "thamnophis-proximus\n",
            "thamnophis-elegans\n",
            "thamnophis-marcianus\n",
            "pituophis-catenifer\n",
            "thamnophis-radix\n",
            "pantherophis-vulpinus\n",
            "storeria-occipitomaculata\n",
            "thamnophis-sirtalis\n",
            "nerodia-erythrogaster\n",
            "pantherophis-spiloides\n",
            "pantherophis-obsoletus\n",
            "opheodrys-aestivus\n",
            "pantherophis-guttatus\n",
            "nerodia-sipedon\n",
            "pantherophis-alleghaniensis\n",
            "nerodia-rhombifer\n",
            "pantherophis-emoryi\n",
            "nerodia-fasciata\n",
            "heterodon-platirhinos\n",
            "lampropeltis-triangulum\n",
            "crotalus-ruber\n",
            "haldea-striatula\n",
            "crotalus-scutulatus\n",
            "crotalus-viridis\n",
            "lampropeltis-californiae\n",
            "diadophis-punctatus\n",
            "natrix-natrix\n",
            "masticophis-flagellum\n",
            "agkistrodon-contortrix\n",
            "crotalus-horridus\n",
            "crotalus-atrox\n",
            "agkistrodon-piscivorus\n",
            "coluber-constrictor\n"
          ]
        }
      ]
    },
    {
      "cell_type": "code",
      "metadata": {
        "colab": {
          "base_uri": "https://localhost:8080/",
          "height": 195
        },
        "id": "-swjLJ8w3tFP",
        "outputId": "bbfd19c7-a146-45ef-e98d-6160488701a6"
      },
      "source": [
        "#creating training,validation, test\n",
        "data_set_dirs = ['train','valid','test']\n",
        "for dsdirs in data_set_dirs:\n",
        "  path = parent_dir + '/'+dsdirs\n",
        "  os.mkdir(path, 755)"
      ],
      "execution_count": null,
      "outputs": [
        {
          "output_type": "error",
          "ename": "FileExistsError",
          "evalue": "ignored",
          "traceback": [
            "\u001b[0;31m---------------------------------------------------------------------------\u001b[0m",
            "\u001b[0;31mFileExistsError\u001b[0m                           Traceback (most recent call last)",
            "\u001b[0;32m<ipython-input-59-a6aa01fa0e91>\u001b[0m in \u001b[0;36m<module>\u001b[0;34m()\u001b[0m\n\u001b[1;32m      3\u001b[0m \u001b[0;32mfor\u001b[0m \u001b[0mdsdirs\u001b[0m \u001b[0;32min\u001b[0m \u001b[0mdata_set_dirs\u001b[0m\u001b[0;34m:\u001b[0m\u001b[0;34m\u001b[0m\u001b[0;34m\u001b[0m\u001b[0m\n\u001b[1;32m      4\u001b[0m   \u001b[0mpath\u001b[0m \u001b[0;34m=\u001b[0m \u001b[0mparent_dir\u001b[0m \u001b[0;34m+\u001b[0m \u001b[0;34m'/'\u001b[0m\u001b[0;34m+\u001b[0m\u001b[0mdsdirs\u001b[0m\u001b[0;34m\u001b[0m\u001b[0;34m\u001b[0m\u001b[0m\n\u001b[0;32m----> 5\u001b[0;31m   \u001b[0mos\u001b[0m\u001b[0;34m.\u001b[0m\u001b[0mmkdir\u001b[0m\u001b[0;34m(\u001b[0m\u001b[0mpath\u001b[0m\u001b[0;34m,\u001b[0m \u001b[0;36m755\u001b[0m\u001b[0;34m)\u001b[0m\u001b[0;34m\u001b[0m\u001b[0;34m\u001b[0m\u001b[0m\n\u001b[0m",
            "\u001b[0;31mFileExistsError\u001b[0m: [Errno 17] File exists: '/content/gdrive/MyDrive/Studio 3A/SnakeDataset/train'"
          ]
        }
      ]
    },
    {
      "cell_type": "markdown",
      "metadata": {
        "id": "0SZox4U_33o5"
      },
      "source": [
        "**Set split ratio, start splitting**"
      ]
    },
    {
      "cell_type": "code",
      "metadata": {
        "id": "rQnlqoY53xlV"
      },
      "source": [
        "#define proportion of data\n",
        "train_prop = 0.6\n",
        "valid_prop = test_prop = (1-train_prop)/2"
      ],
      "execution_count": null,
      "outputs": []
    },
    {
      "cell_type": "code",
      "metadata": {
        "id": "xoDyp11T38G3"
      },
      "source": [
        "#function to split data of each category into trainning, validation and testing set\n",
        "\n",
        "def create_dataset():\n",
        "  for ii,snake in enumerate(category_list):    \n",
        "    src_path = database_dir + '/' + snake\n",
        "    dest_dir1 = parent_dir+'/train/'+str(ii)\n",
        "    dest_dir2 = parent_dir+'/valid/'+str(ii)\n",
        "    dest_dir3 = parent_dir+'/test/'+str(ii)\n",
        "    \n",
        "    dest_dirs_list = [dest_dir1,dest_dir2,dest_dir3]\n",
        "    for dirs in dest_dirs_list:\n",
        "      os.mkdir(dirs,755 )\n",
        "    \n",
        "    #get files' names list from respective directories\n",
        "    os.chdir(src_path)\n",
        "    files = [f for f in os.listdir() if os.path.isfile(f)]\n",
        "    \n",
        "    #get training, testing and validation files count\n",
        "    train_count = math.ceil(train_prop*len(files))\n",
        "    valid_count = int((len(files)-train_count)/2)\n",
        "    test_count = valid_count\n",
        "    \n",
        "    #get files to segragate for train,test and validation data set\n",
        "    train_data_list = files[0: train_count]\n",
        "    valid_data_list = files[train_count+1:train_count+1+valid_count]  \n",
        "    test_data_list =  files[train_count+valid_count:]\n",
        "       \n",
        "  \n",
        "    for train_data in train_data_list:\n",
        "      train_path = src_path + '/' + train_data\n",
        "      shutil.copy(train_path,dest_dir1)\n",
        "    \n",
        "    for valid_data in valid_data_list:\n",
        "      valid_path = src_path + '/' + valid_data\n",
        "      shutil.copy(valid_path,dest_dir2)\n",
        "    \n",
        "    for test_data in test_data_list:\n",
        "      test_path = src_path + '/' + test_data\n",
        "      shutil.copy(test_path,dest_dir3)    \n",
        "    \n",
        "create_dataset()"
      ],
      "execution_count": null,
      "outputs": []
    },
    {
      "cell_type": "code",
      "metadata": {
        "id": "E0XrpTRMOTrg"
      },
      "source": [
        "#save category data as dictionary in a json file\n",
        "snake_data = {}\n",
        "for ix,snake in enumerate(category_list):\n",
        "  snake_data[ix] = weather\n",
        "  with open('/content/gdrive/MyDrive/Studio 3A/SnakeDataset/snake_data.json','w') as outfile:\n",
        "    json.dump(snake_data, outfile)"
      ],
      "execution_count": null,
      "outputs": []
    },
    {
      "cell_type": "markdown",
      "metadata": {
        "id": "P-P5flDR09W4"
      },
      "source": [
        "Dataset https://drive.google.com/drive/folders/15FD7nbI0pSmOEqIiPYgQCkG_Z5xsCv_h?usp=sharing"
      ]
    },
    {
      "cell_type": "markdown",
      "metadata": {
        "id": "8oC_VUMQBWpk"
      },
      "source": [
        "Import required packages"
      ]
    },
    {
      "cell_type": "markdown",
      "metadata": {
        "id": "NXJo0eLKBa1z"
      },
      "source": [
        "we will import tensorflow, numpy, keras"
      ]
    },
    {
      "cell_type": "code",
      "metadata": {
        "id": "P_2nwEJpBRci"
      },
      "source": [
        "import tensorflow as tf\n",
        "import zipfile\n",
        "import matplotlib.pyplot as plt\n",
        "from tensorflow.keras import layers\n",
        "from tensorflow.keras import Model\n",
        "from sklearn.preprocessing import LabelBinarizer\n",
        "from keras.callbacks import ModelCheckpoint\n",
        "from tensorflow.keras.optimizers import SGD\n",
        "from keras.datasets import cifar10\n",
        "from tensorflow.keras.optimizers import RMSprop\n",
        "from tensorflow.keras.preprocessing.image import ImageDataGenerator"
      ],
      "execution_count": 6,
      "outputs": []
    },
    {
      "cell_type": "code",
      "metadata": {
        "id": "jxJlqI44Bl_h"
      },
      "source": [
        "base_dir = '/content/gdrive/MyDrive/Studio 3A/SnakeDataset'\n",
        "train_dir = os.path.join(base_dir, 'train')\n",
        "validation_dir = os.path.join(base_dir, 'valid')\n",
        "test_dir = os.path.join(base_dir, 'test')"
      ],
      "execution_count": 7,
      "outputs": []
    },
    {
      "cell_type": "markdown",
      "metadata": {
        "id": "aevWHVkKB1i1"
      },
      "source": [
        "Resize Image size to 244x244"
      ]
    },
    {
      "cell_type": "code",
      "metadata": {
        "id": "XDGUvRLBB2ov"
      },
      "source": [
        "from PIL import Image\n",
        "import sys\n",
        "\n",
        "def resize(paths):\n",
        "    for category in range(0,35):\n",
        "      path = os.path.join(paths, str(category))\n",
        "      dirs = os.listdir( path )\n",
        "      for item in dirs:\n",
        "        if os.path.isfile(path+item):\n",
        "          im = Image.open(path+item)\n",
        "          f, e = os.path.splitext(path+item)\n",
        "          imResize = im.resize((224,224), Image.ANTIALIAS)\n",
        "          imResize.save(f + ' resized.jpg', 'JPEG', quality=90)"
      ],
      "execution_count": 8,
      "outputs": []
    },
    {
      "cell_type": "code",
      "metadata": {
        "id": "x6EAGOW2B8pP"
      },
      "source": [
        "resize(train_dir)\n",
        "resize(validation_dir)\n",
        "resize(test_dir)"
      ],
      "execution_count": 38,
      "outputs": []
    },
    {
      "cell_type": "markdown",
      "metadata": {
        "id": "cLHQ68TQDZk-"
      },
      "source": [
        "Using VGG16 "
      ]
    },
    {
      "cell_type": "code",
      "metadata": {
        "id": "gsHJlK4DGNEU"
      },
      "source": [
        "import keras,os\n",
        "from keras.models import Sequential\n",
        "from keras.layers import Dense, Conv2D, MaxPool2D , Flatten\n",
        "from keras.preprocessing.image import ImageDataGenerator\n",
        "import numpy as np"
      ],
      "execution_count": 9,
      "outputs": []
    },
    {
      "cell_type": "code",
      "metadata": {
        "colab": {
          "base_uri": "https://localhost:8080/"
        },
        "id": "PN4Ng_ryGR7X",
        "outputId": "d6a8a70c-4614-469f-db09-6870cbf5a3e2"
      },
      "source": [
        "trdata = ImageDataGenerator()\n",
        "traindata = trdata.flow_from_directory(directory=train_dir,target_size=(224,224))\n",
        "tsdata = ImageDataGenerator()\n",
        "testdata = tsdata.flow_from_directory(directory=test_dir, target_size=(224,224))"
      ],
      "execution_count": 10,
      "outputs": [
        {
          "output_type": "stream",
          "name": "stdout",
          "text": [
            "Found 7934 images belonging to 35 classes.\n",
            "Found 2646 images belonging to 35 classes.\n"
          ]
        }
      ]
    },
    {
      "cell_type": "code",
      "metadata": {
        "id": "9RhKgPcaGtzx"
      },
      "source": [
        "model = Sequential()\n",
        "model.add(Conv2D(input_shape=(224,224,3),filters=64,kernel_size=(3,3),padding=\"same\", activation=\"relu\"))\n",
        "model.add(Conv2D(filters=64,kernel_size=(3,3),padding=\"same\", activation=\"relu\"))\n",
        "model.add(MaxPool2D(pool_size=(2,2),strides=(2,2)))\n",
        "model.add(Conv2D(filters=128, kernel_size=(3,3), padding=\"same\", activation=\"relu\"))\n",
        "model.add(Conv2D(filters=128, kernel_size=(3,3), padding=\"same\", activation=\"relu\"))\n",
        "model.add(MaxPool2D(pool_size=(2,2),strides=(2,2)))\n",
        "model.add(Conv2D(filters=256, kernel_size=(3,3), padding=\"same\", activation=\"relu\"))\n",
        "model.add(Conv2D(filters=256, kernel_size=(3,3), padding=\"same\", activation=\"relu\"))\n",
        "model.add(Conv2D(filters=256, kernel_size=(3,3), padding=\"same\", activation=\"relu\"))\n",
        "model.add(MaxPool2D(pool_size=(2,2),strides=(2,2)))\n",
        "model.add(Conv2D(filters=512, kernel_size=(3,3), padding=\"same\", activation=\"relu\"))\n",
        "model.add(Conv2D(filters=512, kernel_size=(3,3), padding=\"same\", activation=\"relu\"))\n",
        "model.add(Conv2D(filters=512, kernel_size=(3,3), padding=\"same\", activation=\"relu\"))\n",
        "model.add(MaxPool2D(pool_size=(2,2),strides=(2,2)))\n",
        "model.add(Conv2D(filters=512, kernel_size=(3,3), padding=\"same\", activation=\"relu\"))\n",
        "model.add(Conv2D(filters=512, kernel_size=(3,3), padding=\"same\", activation=\"relu\"))\n",
        "model.add(Conv2D(filters=512, kernel_size=(3,3), padding=\"same\", activation=\"relu\"))\n",
        "model.add(MaxPool2D(pool_size=(2,2),strides=(2,2)))"
      ],
      "execution_count": 11,
      "outputs": []
    },
    {
      "cell_type": "code",
      "metadata": {
        "id": "hQR5KWwDG1N_"
      },
      "source": [
        "model.add(Flatten())\n",
        "model.add(Dense(units=4096,activation=\"relu\"))\n",
        "model.add(Dense(units=4096,activation=\"relu\"))\n",
        "model.add(Dense(units=35, activation=\"softmax\"))"
      ],
      "execution_count": 12,
      "outputs": []
    },
    {
      "cell_type": "code",
      "metadata": {
        "id": "2VPMJPNxG_ZE"
      },
      "source": [
        "from tensorflow.keras.optimizers import Adam\n",
        "opt = Adam(learning_rate=0.001)\n",
        "model.compile(optimizer=opt, loss=keras.losses.categorical_crossentropy, metrics=['accuracy'])"
      ],
      "execution_count": 13,
      "outputs": []
    },
    {
      "cell_type": "code",
      "metadata": {
        "colab": {
          "base_uri": "https://localhost:8080/"
        },
        "id": "hArQOrB1HMR5",
        "outputId": "6dad1e7b-c9f5-40eb-e6f7-dab68c7af811"
      },
      "source": [
        "model.summary()"
      ],
      "execution_count": 14,
      "outputs": [
        {
          "output_type": "stream",
          "name": "stdout",
          "text": [
            "Model: \"sequential\"\n",
            "_________________________________________________________________\n",
            "Layer (type)                 Output Shape              Param #   \n",
            "=================================================================\n",
            "conv2d (Conv2D)              (None, 224, 224, 64)      1792      \n",
            "_________________________________________________________________\n",
            "conv2d_1 (Conv2D)            (None, 224, 224, 64)      36928     \n",
            "_________________________________________________________________\n",
            "max_pooling2d (MaxPooling2D) (None, 112, 112, 64)      0         \n",
            "_________________________________________________________________\n",
            "conv2d_2 (Conv2D)            (None, 112, 112, 128)     73856     \n",
            "_________________________________________________________________\n",
            "conv2d_3 (Conv2D)            (None, 112, 112, 128)     147584    \n",
            "_________________________________________________________________\n",
            "max_pooling2d_1 (MaxPooling2 (None, 56, 56, 128)       0         \n",
            "_________________________________________________________________\n",
            "conv2d_4 (Conv2D)            (None, 56, 56, 256)       295168    \n",
            "_________________________________________________________________\n",
            "conv2d_5 (Conv2D)            (None, 56, 56, 256)       590080    \n",
            "_________________________________________________________________\n",
            "conv2d_6 (Conv2D)            (None, 56, 56, 256)       590080    \n",
            "_________________________________________________________________\n",
            "max_pooling2d_2 (MaxPooling2 (None, 28, 28, 256)       0         \n",
            "_________________________________________________________________\n",
            "conv2d_7 (Conv2D)            (None, 28, 28, 512)       1180160   \n",
            "_________________________________________________________________\n",
            "conv2d_8 (Conv2D)            (None, 28, 28, 512)       2359808   \n",
            "_________________________________________________________________\n",
            "conv2d_9 (Conv2D)            (None, 28, 28, 512)       2359808   \n",
            "_________________________________________________________________\n",
            "max_pooling2d_3 (MaxPooling2 (None, 14, 14, 512)       0         \n",
            "_________________________________________________________________\n",
            "conv2d_10 (Conv2D)           (None, 14, 14, 512)       2359808   \n",
            "_________________________________________________________________\n",
            "conv2d_11 (Conv2D)           (None, 14, 14, 512)       2359808   \n",
            "_________________________________________________________________\n",
            "conv2d_12 (Conv2D)           (None, 14, 14, 512)       2359808   \n",
            "_________________________________________________________________\n",
            "max_pooling2d_4 (MaxPooling2 (None, 7, 7, 512)         0         \n",
            "_________________________________________________________________\n",
            "flatten (Flatten)            (None, 25088)             0         \n",
            "_________________________________________________________________\n",
            "dense (Dense)                (None, 4096)              102764544 \n",
            "_________________________________________________________________\n",
            "dense_1 (Dense)              (None, 4096)              16781312  \n",
            "_________________________________________________________________\n",
            "dense_2 (Dense)              (None, 35)                143395    \n",
            "=================================================================\n",
            "Total params: 134,403,939\n",
            "Trainable params: 134,403,939\n",
            "Non-trainable params: 0\n",
            "_________________________________________________________________\n"
          ]
        }
      ]
    },
    {
      "cell_type": "code",
      "metadata": {
        "colab": {
          "base_uri": "https://localhost:8080/"
        },
        "id": "7aTCjjl4HO3r",
        "outputId": "f8e6f3de-d813-419e-b983-be74acd79742"
      },
      "source": [
        "from keras.callbacks import ModelCheckpoint, EarlyStopping\n",
        "checkpoint = ModelCheckpoint(\"vgg16_1.h5\", monitor='val_acc', verbose=1, save_best_only=True, save_weights_only=False, mode='auto', period=1)\n",
        "early = EarlyStopping(monitor='val_acc', min_delta=0, patience=5, verbose=1, mode='auto')\n",
        "hist = model.fit_generator(steps_per_epoch=10,generator=traindata, validation_data= testdata, validation_steps=10,epochs=10,callbacks=[checkpoint,early])"
      ],
      "execution_count": 16,
      "outputs": [
        {
          "output_type": "stream",
          "name": "stdout",
          "text": [
            "WARNING:tensorflow:`period` argument is deprecated. Please use `save_freq` to specify the frequency in number of batches seen.\n"
          ]
        },
        {
          "output_type": "stream",
          "name": "stderr",
          "text": [
            "/usr/local/lib/python3.7/dist-packages/keras/engine/training.py:1972: UserWarning: `Model.fit_generator` is deprecated and will be removed in a future version. Please use `Model.fit`, which supports generators.\n",
            "  warnings.warn('`Model.fit_generator` is deprecated and '\n"
          ]
        },
        {
          "output_type": "stream",
          "name": "stdout",
          "text": [
            "Epoch 1/10\n",
            "10/10 [==============================] - 787s 80s/step - loss: 3.5778 - accuracy: 0.0250 - val_loss: 3.5583 - val_accuracy: 0.0375\n",
            "WARNING:tensorflow:Can save best model only with val_acc available, skipping.\n",
            "WARNING:tensorflow:Early stopping conditioned on metric `val_acc` which is not available. Available metrics are: loss,accuracy,val_loss,val_accuracy\n",
            "Epoch 2/10\n",
            "10/10 [==============================] - 783s 79s/step - loss: 3.5595 - accuracy: 0.0283 - val_loss: 3.5558 - val_accuracy: 0.0344\n",
            "WARNING:tensorflow:Can save best model only with val_acc available, skipping.\n",
            "WARNING:tensorflow:Early stopping conditioned on metric `val_acc` which is not available. Available metrics are: loss,accuracy,val_loss,val_accuracy\n",
            "Epoch 3/10\n",
            "10/10 [==============================] - 790s 80s/step - loss: 3.5558 - accuracy: 0.0375 - val_loss: 3.5580 - val_accuracy: 0.0250\n",
            "WARNING:tensorflow:Can save best model only with val_acc available, skipping.\n",
            "WARNING:tensorflow:Early stopping conditioned on metric `val_acc` which is not available. Available metrics are: loss,accuracy,val_loss,val_accuracy\n",
            "Epoch 4/10\n",
            "10/10 [==============================] - 783s 80s/step - loss: 3.5772 - accuracy: 0.0188 - val_loss: 3.5550 - val_accuracy: 0.0437\n",
            "WARNING:tensorflow:Can save best model only with val_acc available, skipping.\n",
            "WARNING:tensorflow:Early stopping conditioned on metric `val_acc` which is not available. Available metrics are: loss,accuracy,val_loss,val_accuracy\n",
            "Epoch 5/10\n",
            "10/10 [==============================] - 788s 80s/step - loss: 3.5574 - accuracy: 0.0188 - val_loss: 3.5563 - val_accuracy: 0.0250\n",
            "WARNING:tensorflow:Can save best model only with val_acc available, skipping.\n",
            "WARNING:tensorflow:Early stopping conditioned on metric `val_acc` which is not available. Available metrics are: loss,accuracy,val_loss,val_accuracy\n",
            "Epoch 6/10\n",
            "10/10 [==============================] - 778s 79s/step - loss: 3.5526 - accuracy: 0.0406 - val_loss: 3.5560 - val_accuracy: 0.0125\n",
            "WARNING:tensorflow:Can save best model only with val_acc available, skipping.\n",
            "WARNING:tensorflow:Early stopping conditioned on metric `val_acc` which is not available. Available metrics are: loss,accuracy,val_loss,val_accuracy\n",
            "Epoch 7/10\n",
            "10/10 [==============================] - 786s 79s/step - loss: 3.5566 - accuracy: 0.0156 - val_loss: 3.5583 - val_accuracy: 0.0281\n",
            "WARNING:tensorflow:Can save best model only with val_acc available, skipping.\n",
            "WARNING:tensorflow:Early stopping conditioned on metric `val_acc` which is not available. Available metrics are: loss,accuracy,val_loss,val_accuracy\n",
            "Epoch 8/10\n",
            "10/10 [==============================] - 779s 79s/step - loss: 3.5554 - accuracy: 0.0219 - val_loss: 3.5528 - val_accuracy: 0.0406\n",
            "WARNING:tensorflow:Can save best model only with val_acc available, skipping.\n",
            "WARNING:tensorflow:Early stopping conditioned on metric `val_acc` which is not available. Available metrics are: loss,accuracy,val_loss,val_accuracy\n",
            "Epoch 9/10\n",
            "10/10 [==============================] - 783s 80s/step - loss: 3.5558 - accuracy: 0.0377 - val_loss: 3.5545 - val_accuracy: 0.0312\n",
            "WARNING:tensorflow:Can save best model only with val_acc available, skipping.\n",
            "WARNING:tensorflow:Early stopping conditioned on metric `val_acc` which is not available. Available metrics are: loss,accuracy,val_loss,val_accuracy\n",
            "Epoch 10/10\n",
            "10/10 [==============================] - 786s 79s/step - loss: 3.5521 - accuracy: 0.0406 - val_loss: 3.5513 - val_accuracy: 0.0437\n",
            "WARNING:tensorflow:Can save best model only with val_acc available, skipping.\n",
            "WARNING:tensorflow:Early stopping conditioned on metric `val_acc` which is not available. Available metrics are: loss,accuracy,val_loss,val_accuracy\n"
          ]
        }
      ]
    },
    {
      "cell_type": "code",
      "metadata": {
        "id": "EGcKSr3_PkVT",
        "outputId": "2fdf3f87-4769-4b25-f7d4-9f411db31a9d",
        "colab": {
          "base_uri": "https://localhost:8080/",
          "height": 295
        }
      },
      "source": [
        "import matplotlib.pyplot as plt\n",
        "plt.plot(hist.history['loss'])\n",
        "plt.plot(hist.history['val_loss'])\n",
        "plt.title(\"model accuracy\")\n",
        "plt.ylabel(\"Accuracy\")\n",
        "plt.xlabel(\"Epoch\")\n",
        "plt.legend([\"Accuracy\",\"Validation Accuracy\",\"loss\",\"Validation Loss\"])\n",
        "plt.show()"
      ],
      "execution_count": 20,
      "outputs": [
        {
          "output_type": "display_data",
          "data": {
            "image/png": "[encoded data removed]",
            "text/plain": [
              "<Figure size 432x288 with 1 Axes>"
            ]
          },
          "metadata": {
            "needs_background": "light"
          }
        }
      ]
    },
    {
      "cell_type": "code",
      "metadata": {
        "id": "gf8r4VSYyn4E"
      },
      "source": [
        ""
      ],
      "execution_count": null,
      "outputs": []
    }
  ]
}